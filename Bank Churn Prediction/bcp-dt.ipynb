{
  "cells": [
    {
      "cell_type": "markdown",
      "metadata": {
        "id": "view-in-github",
        "colab_type": "text"
      },
      "source": [
        "<a href=\"https://colab.research.google.com/github/ykbintang/Machine-Learning/blob/main/Bank%20Churn%20Prediction/bcp-dt.ipynb\" target=\"_parent\"><img src=\"https://colab.research.google.com/assets/colab-badge.svg\" alt=\"Open In Colab\"/></a>"
      ]
    },
    {
      "cell_type": "markdown",
      "metadata": {
        "id": "RaMgWeOfK5yY"
      },
      "source": [
        "# Bank Churn Prediction - Decision Tree\n",
        "The aim of this project is to predict whether a credit card customer will leave bank services or not. Note, this project uses the Decision Tree learning algorithm by changing the number of learning data sets.\n",
        "\n",
        "Data diambil dari [situs Kaggle](https://www.kaggle.com/code/chetbounl/data-exploration-model-evaluation-on-bankchurners/data) yang gterdiri dari 8500 data pelanggan setia dan 1627 pelanggan keluar dengan atribut data sebagai berikut.\n",
        "* CLIENTNUM: Client number. Unique identifier for the customer holding the account\n",
        "* Customer_Age: Demographic variable — Customer’s Age in Years\n",
        "* Gender: Demographic variable — M=Male, F=Female\n",
        "* Dependent_count: Demographic variable — Number of dependents\n",
        "* Education_Level: Demographic variable — Educational Qualification of the account holder (example: high school, college graduate, etc.)\n",
        "* Marital_Status: Demographic variable — Married, Single, Divorced, Unknown\n",
        "* Income_Category: Demographic variable — Annual Income Category of the account holder (< 40K,40K,40K — 60K, 60K−60K−80K, 80K−80K−120K, > $120K, Unknown)\n",
        "* Card_Category: Product Variable — Type of Card (Blue, Silver, Gold, Platinum)\n",
        "* Months_on_book: Period of relationship with bank\n",
        "* Total_Relationship_Count: Total no. of products held by the customer\n",
        "* Months_Inactive_12_mon: No. of months inactive in the last 12 months\n",
        "* Contacts_Count_12_mon: No. of Contacts in the last 12 months\n",
        "* Credit_Limit: Credit Limit on the Credit Card\n",
        "* Total_Revolving_Bal: Total Revolving Balance on the Credit Card\n",
        "* Avg_Open_To_Buy: Open to Buy Credit Line (Average of last 12 months)\n",
        "* Total_Amt_Chng_Q4_Q1: Change in Transaction Amount (Q4 over Q1)\n",
        "* Total_Trans_Amt: Total Transaction Amount (Last 12 months)\n",
        "* Total_Trans_Ct: Total Transaction Count (Last 12 months)\n",
        "* Total_Ct_Chng_Q4_Q1: Change in Transaction Count (Q4 over Q1)\n",
        "* Avg_Utilization_Ratio: Average Card Utilization Ratio\n",
        "\n",
        "This experiment was conducted to see the adaptive nature of machine learning and the accuracy of the model in relation to the amount of experience/dataset given to the machine.\n",
        "\n",
        "There are two experiments:\n",
        "\n",
        "1. When the amount of outgoing customer data is much less than the amount of loyal customer data.\n",
        "2. When the amount of data for the two types of customers is almost equal.\n",
        "\n",
        "In this experiment the number of outgoing customers was varied to see changes in the model resulting from machine learning."
      ]
    },
    {
      "cell_type": "markdown",
      "metadata": {
        "id": "-KUotV4DK5yc"
      },
      "source": [
        "## Load dataset"
      ]
    },
    {
      "cell_type": "code",
      "execution_count": 2,
      "metadata": {
        "id": "4u3xf1RvK5yc"
      },
      "outputs": [],
      "source": [
        "import pandas as pd\n",
        "\n",
        "# Download datasets for machine learning\n",
        "df = pd.read_csv('/content/BankChurners.csv')"
      ]
    },
    {
      "cell_type": "markdown",
      "metadata": {
        "id": "n6X3XrkoK5yd"
      },
      "source": [
        "## Data Exploration"
      ]
    },
    {
      "cell_type": "code",
      "execution_count": 3,
      "metadata": {
        "id": "wo8cYegzK5yd",
        "outputId": "dc04d496-a056-440e-b75a-a5c0affcfdac",
        "colab": {
          "base_uri": "https://localhost:8080/"
        }
      },
      "outputs": [
        {
          "output_type": "stream",
          "name": "stdout",
          "text": [
            "<class 'pandas.core.frame.DataFrame'>\n",
            "RangeIndex: 10127 entries, 0 to 10126\n",
            "Data columns (total 23 columns):\n",
            " #   Column                                                                                                                              Non-Null Count  Dtype  \n",
            "---  ------                                                                                                                              --------------  -----  \n",
            " 0   CLIENTNUM                                                                                                                           10127 non-null  int64  \n",
            " 1   Attrition_Flag                                                                                                                      10127 non-null  object \n",
            " 2   Customer_Age                                                                                                                        10127 non-null  int64  \n",
            " 3   Gender                                                                                                                              10127 non-null  object \n",
            " 4   Dependent_count                                                                                                                     10127 non-null  int64  \n",
            " 5   Education_Level                                                                                                                     10127 non-null  object \n",
            " 6   Marital_Status                                                                                                                      10127 non-null  object \n",
            " 7   Income_Category                                                                                                                     10127 non-null  object \n",
            " 8   Card_Category                                                                                                                       10127 non-null  object \n",
            " 9   Months_on_book                                                                                                                      10127 non-null  int64  \n",
            " 10  Total_Relationship_Count                                                                                                            10127 non-null  int64  \n",
            " 11  Months_Inactive_12_mon                                                                                                              10127 non-null  int64  \n",
            " 12  Contacts_Count_12_mon                                                                                                               10127 non-null  int64  \n",
            " 13  Credit_Limit                                                                                                                        10127 non-null  float64\n",
            " 14  Total_Revolving_Bal                                                                                                                 10127 non-null  int64  \n",
            " 15  Avg_Open_To_Buy                                                                                                                     10127 non-null  float64\n",
            " 16  Total_Amt_Chng_Q4_Q1                                                                                                                10127 non-null  float64\n",
            " 17  Total_Trans_Amt                                                                                                                     10127 non-null  int64  \n",
            " 18  Total_Trans_Ct                                                                                                                      10127 non-null  int64  \n",
            " 19  Total_Ct_Chng_Q4_Q1                                                                                                                 10127 non-null  float64\n",
            " 20  Avg_Utilization_Ratio                                                                                                               10127 non-null  float64\n",
            " 21  Naive_Bayes_Classifier_Attrition_Flag_Card_Category_Contacts_Count_12_mon_Dependent_count_Education_Level_Months_Inactive_12_mon_1  10127 non-null  float64\n",
            " 22  Naive_Bayes_Classifier_Attrition_Flag_Card_Category_Contacts_Count_12_mon_Dependent_count_Education_Level_Months_Inactive_12_mon_2  10127 non-null  float64\n",
            "dtypes: float64(7), int64(10), object(6)\n",
            "memory usage: 1.8+ MB\n"
          ]
        }
      ],
      "source": [
        "df.info()"
      ]
    },
    {
      "cell_type": "code",
      "execution_count": 4,
      "metadata": {
        "id": "Bh993-gnK5ye",
        "outputId": "fb2760bc-4289-493a-cfc0-d39663e8c4ca",
        "colab": {
          "base_uri": "https://localhost:8080/"
        }
      },
      "outputs": [
        {
          "output_type": "stream",
          "name": "stdout",
          "text": [
            "<class 'pandas.core.frame.DataFrame'>\n",
            "RangeIndex: 10127 entries, 0 to 10126\n",
            "Data columns (total 18 columns):\n",
            " #   Column                    Non-Null Count  Dtype  \n",
            "---  ------                    --------------  -----  \n",
            " 0   Attrition_Flag            10127 non-null  object \n",
            " 1   Customer_Age              10127 non-null  int64  \n",
            " 2   Gender                    10127 non-null  object \n",
            " 3   Dependent_count           10127 non-null  int64  \n",
            " 4   Education_Level           10127 non-null  object \n",
            " 5   Marital_Status            10127 non-null  object \n",
            " 6   Income_Category           10127 non-null  object \n",
            " 7   Card_Category             10127 non-null  object \n",
            " 8   Months_on_book            10127 non-null  int64  \n",
            " 9   Total_Relationship_Count  10127 non-null  int64  \n",
            " 10  Months_Inactive_12_mon    10127 non-null  int64  \n",
            " 11  Contacts_Count_12_mon     10127 non-null  int64  \n",
            " 12  Credit_Limit              10127 non-null  float64\n",
            " 13  Total_Revolving_Bal       10127 non-null  int64  \n",
            " 14  Avg_Open_To_Buy           10127 non-null  float64\n",
            " 15  Total_Trans_Amt           10127 non-null  int64  \n",
            " 16  Total_Trans_Ct            10127 non-null  int64  \n",
            " 17  Avg_Utilization_Ratio     10127 non-null  float64\n",
            "dtypes: float64(3), int64(9), object(6)\n",
            "memory usage: 1.4+ MB\n"
          ]
        }
      ],
      "source": [
        "# Delete columns that are not needed\n",
        "delete_columns = [0, 16, 19, 21, 22]\n",
        "df.drop(df.columns[delete_columns], axis=1, inplace=True)\n",
        "\n",
        "df.info()"
      ]
    },
    {
      "cell_type": "code",
      "execution_count": 5,
      "metadata": {
        "id": "Mi5Ml-pmK5ye"
      },
      "outputs": [],
      "source": [
        "# Rename the Attrition_Flag column to status\n",
        "df.rename(columns={'Attrition_Flag':'status'}, inplace=True)"
      ]
    },
    {
      "cell_type": "code",
      "execution_count": 6,
      "metadata": {
        "id": "D09T9NrBK5yf",
        "outputId": "fd3a9d7d-1a8a-42ba-e886-7ecffa4369e4",
        "colab": {
          "base_uri": "https://localhost:8080/"
        }
      },
      "outputs": [
        {
          "output_type": "execute_result",
          "data": {
            "text/plain": [
              "Existing Customer    8500\n",
              "Attrited Customer    1627\n",
              "Name: status, dtype: int64"
            ]
          },
          "metadata": {},
          "execution_count": 6
        }
      ],
      "source": [
        "# Attrition_Flag is a data label, which informs whether the customer has abandoned the bank's credit card service or not\n",
        "df['status'].value_counts()"
      ]
    },
    {
      "cell_type": "markdown",
      "metadata": {
        "id": "JNk2zSGDK5yf"
      },
      "source": [
        "## First Experiment\n",
        "In this case, we set the number of outgoing customers at 400 people, while the number of loyal customers has not changed, namely 8500 people."
      ]
    },
    {
      "cell_type": "code",
      "execution_count": 7,
      "metadata": {
        "id": "GhDsYU56K5yf",
        "outputId": "18480d5c-df47-4cc8-ef3d-72026062b1f6",
        "colab": {
          "base_uri": "https://localhost:8080/"
        }
      },
      "outputs": [
        {
          "output_type": "execute_result",
          "data": {
            "text/plain": [
              "(8500, 1627)"
            ]
          },
          "metadata": {},
          "execution_count": 7
        }
      ],
      "source": [
        "# Separate data for two types of customers\n",
        "df_out = df[df['status']=='Attrited Customer']\n",
        "df_loyal = df[df['status']=='Existing Customer']\n",
        "\n",
        "len(df_loyal), len(df_out)"
      ]
    },
    {
      "cell_type": "code",
      "execution_count": 8,
      "metadata": {
        "id": "Sw7zTgb8K5yf",
        "outputId": "a9f257d6-bfd1-4559-986b-4639ff8149a6",
        "colab": {
          "base_uri": "https://localhost:8080/"
        }
      },
      "outputs": [
        {
          "output_type": "execute_result",
          "data": {
            "text/plain": [
              "400"
            ]
          },
          "metadata": {},
          "execution_count": 8
        }
      ],
      "source": [
        "# Take a sample of 400 outgoing customers\n",
        "df_out_sampled = df_out.sample(400, random_state=2)\n",
        "\n",
        "len(df_out_sampled)"
      ]
    },
    {
      "cell_type": "code",
      "execution_count": 9,
      "metadata": {
        "id": "EJHH1RUZK5yg"
      },
      "outputs": [],
      "source": [
        "# Combine 400 outgoing customers with loyal customers\n",
        "dataset_sample = pd.concat([df_loyal, df_out_sampled])"
      ]
    },
    {
      "cell_type": "code",
      "execution_count": 10,
      "metadata": {
        "id": "WenzHauvK5yg",
        "outputId": "25377a29-5548-42fc-d669-b70f90525d00",
        "colab": {
          "base_uri": "https://localhost:8080/"
        }
      },
      "outputs": [
        {
          "output_type": "execute_result",
          "data": {
            "text/plain": [
              "Existing Customer    8500\n",
              "Attrited Customer     400\n",
              "Name: status, dtype: int64"
            ]
          },
          "metadata": {},
          "execution_count": 10
        }
      ],
      "source": [
        "# See the distribution of the number of customers based on their status/label\n",
        "dataset_sample['status'].value_counts()"
      ]
    },
    {
      "cell_type": "code",
      "execution_count": 11,
      "metadata": {
        "id": "KVW4FqQTK5yg"
      },
      "outputs": [],
      "source": [
        "from sklearn.model_selection import train_test_split\n",
        "from sklearn.tree import DecisionTreeClassifier\n",
        "from sklearn.metrics import recall_score"
      ]
    },
    {
      "cell_type": "code",
      "execution_count": 12,
      "metadata": {
        "id": "K0RhapLCK5yg"
      },
      "outputs": [],
      "source": [
        "# Separate the label column from the non-label column\n",
        "# Delete the status column\n",
        "X = dataset_sample.drop('status', axis=1)\n",
        "\n",
        "# Retrieve the status column from the dataset\n",
        "y = dataset_sample['status']"
      ]
    },
    {
      "cell_type": "code",
      "execution_count": 13,
      "metadata": {
        "id": "VZZSxrGnK5yg",
        "outputId": "c42d21db-c3bd-4d2d-9c70-28661e0f5dcf",
        "colab": {
          "base_uri": "https://localhost:8080/"
        }
      },
      "outputs": [
        {
          "output_type": "stream",
          "name": "stdout",
          "text": [
            "<class 'pandas.core.frame.DataFrame'>\n",
            "Int64Index: 8900 entries, 0 to 7336\n",
            "Data columns (total 17 columns):\n",
            " #   Column                    Non-Null Count  Dtype  \n",
            "---  ------                    --------------  -----  \n",
            " 0   Customer_Age              8900 non-null   int64  \n",
            " 1   Gender                    8900 non-null   object \n",
            " 2   Dependent_count           8900 non-null   int64  \n",
            " 3   Education_Level           8900 non-null   object \n",
            " 4   Marital_Status            8900 non-null   object \n",
            " 5   Income_Category           8900 non-null   object \n",
            " 6   Card_Category             8900 non-null   object \n",
            " 7   Months_on_book            8900 non-null   int64  \n",
            " 8   Total_Relationship_Count  8900 non-null   int64  \n",
            " 9   Months_Inactive_12_mon    8900 non-null   int64  \n",
            " 10  Contacts_Count_12_mon     8900 non-null   int64  \n",
            " 11  Credit_Limit              8900 non-null   float64\n",
            " 12  Total_Revolving_Bal       8900 non-null   int64  \n",
            " 13  Avg_Open_To_Buy           8900 non-null   float64\n",
            " 14  Total_Trans_Amt           8900 non-null   int64  \n",
            " 15  Total_Trans_Ct            8900 non-null   int64  \n",
            " 16  Avg_Utilization_Ratio     8900 non-null   float64\n",
            "dtypes: float64(3), int64(9), object(5)\n",
            "memory usage: 1.2+ MB\n"
          ]
        }
      ],
      "source": [
        "X.info()"
      ]
    },
    {
      "cell_type": "code",
      "execution_count": 14,
      "metadata": {
        "id": "gtebvd3_K5yg",
        "outputId": "5fb82d65-10ab-434a-94aa-d4a0717bedc3",
        "colab": {
          "base_uri": "https://localhost:8080/"
        }
      },
      "outputs": [
        {
          "output_type": "stream",
          "name": "stdout",
          "text": [
            "<class 'pandas.core.series.Series'>\n",
            "Int64Index: 8900 entries, 0 to 7336\n",
            "Series name: status\n",
            "Non-Null Count  Dtype \n",
            "--------------  ----- \n",
            "8900 non-null   object\n",
            "dtypes: object(1)\n",
            "memory usage: 139.1+ KB\n"
          ]
        }
      ],
      "source": [
        "y.info()"
      ]
    },
    {
      "cell_type": "code",
      "execution_count": 15,
      "metadata": {
        "id": "E3DpsWn3K5yg"
      },
      "outputs": [],
      "source": [
        "# Change the type of non-numeric columns to numeric\n",
        "X = pd.get_dummies(X, drop_first=True) # Hot Encoding the category/string columns"
      ]
    },
    {
      "cell_type": "code",
      "execution_count": 16,
      "metadata": {
        "id": "pYHkIKeLK5yg",
        "outputId": "5320d0da-1a5e-421e-b60c-56038d318234",
        "colab": {
          "base_uri": "https://localhost:8080/"
        }
      },
      "outputs": [
        {
          "output_type": "stream",
          "name": "stdout",
          "text": [
            "<class 'pandas.core.frame.DataFrame'>\n",
            "Int64Index: 8900 entries, 0 to 7336\n",
            "Data columns (total 30 columns):\n",
            " #   Column                          Non-Null Count  Dtype  \n",
            "---  ------                          --------------  -----  \n",
            " 0   Customer_Age                    8900 non-null   int64  \n",
            " 1   Dependent_count                 8900 non-null   int64  \n",
            " 2   Months_on_book                  8900 non-null   int64  \n",
            " 3   Total_Relationship_Count        8900 non-null   int64  \n",
            " 4   Months_Inactive_12_mon          8900 non-null   int64  \n",
            " 5   Contacts_Count_12_mon           8900 non-null   int64  \n",
            " 6   Credit_Limit                    8900 non-null   float64\n",
            " 7   Total_Revolving_Bal             8900 non-null   int64  \n",
            " 8   Avg_Open_To_Buy                 8900 non-null   float64\n",
            " 9   Total_Trans_Amt                 8900 non-null   int64  \n",
            " 10  Total_Trans_Ct                  8900 non-null   int64  \n",
            " 11  Avg_Utilization_Ratio           8900 non-null   float64\n",
            " 12  Gender_M                        8900 non-null   uint8  \n",
            " 13  Education_Level_Doctorate       8900 non-null   uint8  \n",
            " 14  Education_Level_Graduate        8900 non-null   uint8  \n",
            " 15  Education_Level_High School     8900 non-null   uint8  \n",
            " 16  Education_Level_Post-Graduate   8900 non-null   uint8  \n",
            " 17  Education_Level_Uneducated      8900 non-null   uint8  \n",
            " 18  Education_Level_Unknown         8900 non-null   uint8  \n",
            " 19  Marital_Status_Married          8900 non-null   uint8  \n",
            " 20  Marital_Status_Single           8900 non-null   uint8  \n",
            " 21  Marital_Status_Unknown          8900 non-null   uint8  \n",
            " 22  Income_Category_$40K - $60K     8900 non-null   uint8  \n",
            " 23  Income_Category_$60K - $80K     8900 non-null   uint8  \n",
            " 24  Income_Category_$80K - $120K    8900 non-null   uint8  \n",
            " 25  Income_Category_Less than $40K  8900 non-null   uint8  \n",
            " 26  Income_Category_Unknown         8900 non-null   uint8  \n",
            " 27  Card_Category_Gold              8900 non-null   uint8  \n",
            " 28  Card_Category_Platinum          8900 non-null   uint8  \n",
            " 29  Card_Category_Silver            8900 non-null   uint8  \n",
            "dtypes: float64(3), int64(9), uint8(18)\n",
            "memory usage: 1.0 MB\n"
          ]
        }
      ],
      "source": [
        "X.info()"
      ]
    },
    {
      "cell_type": "code",
      "execution_count": 17,
      "metadata": {
        "id": "xICrc1IgK5yh"
      },
      "outputs": [],
      "source": [
        "# Divide data (non-label and labeled) into training set (70%) and test set (30%)\n",
        "X_train, X_test, y_train, y_test = train_test_split(X, y, test_size=0.3, random_state=2)"
      ]
    },
    {
      "cell_type": "code",
      "execution_count": 18,
      "metadata": {
        "id": "zAo0qzdHK5yh",
        "outputId": "f5aeb81c-c55a-47bc-c8b4-11a7c7ecba19",
        "colab": {
          "base_uri": "https://localhost:8080/"
        }
      },
      "outputs": [
        {
          "output_type": "execute_result",
          "data": {
            "text/plain": [
              "(6230, 2670)"
            ]
          },
          "metadata": {},
          "execution_count": 18
        }
      ],
      "source": [
        "# Check the amount of data in the train and test set\n",
        "len(X_train), len(X_test)"
      ]
    },
    {
      "cell_type": "code",
      "execution_count": 19,
      "metadata": {
        "id": "HUTE_jQiK5yh"
      },
      "outputs": [],
      "source": [
        "# Define the Decision Tree model\n",
        "model = DecisionTreeClassifier(max_depth=2, random_state=2)"
      ]
    },
    {
      "cell_type": "code",
      "execution_count": 20,
      "metadata": {
        "id": "tcJ_RB0TK5yh",
        "outputId": "29bc3f6a-c85e-4ff8-d9b6-6fade4727995",
        "colab": {
          "base_uri": "https://localhost:8080/",
          "height": 74
        }
      },
      "outputs": [
        {
          "output_type": "execute_result",
          "data": {
            "text/plain": [
              "DecisionTreeClassifier(max_depth=2, random_state=2)"
            ],
            "text/html": [
              "<style>#sk-container-id-1 {color: black;background-color: white;}#sk-container-id-1 pre{padding: 0;}#sk-container-id-1 div.sk-toggleable {background-color: white;}#sk-container-id-1 label.sk-toggleable__label {cursor: pointer;display: block;width: 100%;margin-bottom: 0;padding: 0.3em;box-sizing: border-box;text-align: center;}#sk-container-id-1 label.sk-toggleable__label-arrow:before {content: \"▸\";float: left;margin-right: 0.25em;color: #696969;}#sk-container-id-1 label.sk-toggleable__label-arrow:hover:before {color: black;}#sk-container-id-1 div.sk-estimator:hover label.sk-toggleable__label-arrow:before {color: black;}#sk-container-id-1 div.sk-toggleable__content {max-height: 0;max-width: 0;overflow: hidden;text-align: left;background-color: #f0f8ff;}#sk-container-id-1 div.sk-toggleable__content pre {margin: 0.2em;color: black;border-radius: 0.25em;background-color: #f0f8ff;}#sk-container-id-1 input.sk-toggleable__control:checked~div.sk-toggleable__content {max-height: 200px;max-width: 100%;overflow: auto;}#sk-container-id-1 input.sk-toggleable__control:checked~label.sk-toggleable__label-arrow:before {content: \"▾\";}#sk-container-id-1 div.sk-estimator input.sk-toggleable__control:checked~label.sk-toggleable__label {background-color: #d4ebff;}#sk-container-id-1 div.sk-label input.sk-toggleable__control:checked~label.sk-toggleable__label {background-color: #d4ebff;}#sk-container-id-1 input.sk-hidden--visually {border: 0;clip: rect(1px 1px 1px 1px);clip: rect(1px, 1px, 1px, 1px);height: 1px;margin: -1px;overflow: hidden;padding: 0;position: absolute;width: 1px;}#sk-container-id-1 div.sk-estimator {font-family: monospace;background-color: #f0f8ff;border: 1px dotted black;border-radius: 0.25em;box-sizing: border-box;margin-bottom: 0.5em;}#sk-container-id-1 div.sk-estimator:hover {background-color: #d4ebff;}#sk-container-id-1 div.sk-parallel-item::after {content: \"\";width: 100%;border-bottom: 1px solid gray;flex-grow: 1;}#sk-container-id-1 div.sk-label:hover label.sk-toggleable__label {background-color: #d4ebff;}#sk-container-id-1 div.sk-serial::before {content: \"\";position: absolute;border-left: 1px solid gray;box-sizing: border-box;top: 0;bottom: 0;left: 50%;z-index: 0;}#sk-container-id-1 div.sk-serial {display: flex;flex-direction: column;align-items: center;background-color: white;padding-right: 0.2em;padding-left: 0.2em;position: relative;}#sk-container-id-1 div.sk-item {position: relative;z-index: 1;}#sk-container-id-1 div.sk-parallel {display: flex;align-items: stretch;justify-content: center;background-color: white;position: relative;}#sk-container-id-1 div.sk-item::before, #sk-container-id-1 div.sk-parallel-item::before {content: \"\";position: absolute;border-left: 1px solid gray;box-sizing: border-box;top: 0;bottom: 0;left: 50%;z-index: -1;}#sk-container-id-1 div.sk-parallel-item {display: flex;flex-direction: column;z-index: 1;position: relative;background-color: white;}#sk-container-id-1 div.sk-parallel-item:first-child::after {align-self: flex-end;width: 50%;}#sk-container-id-1 div.sk-parallel-item:last-child::after {align-self: flex-start;width: 50%;}#sk-container-id-1 div.sk-parallel-item:only-child::after {width: 0;}#sk-container-id-1 div.sk-dashed-wrapped {border: 1px dashed gray;margin: 0 0.4em 0.5em 0.4em;box-sizing: border-box;padding-bottom: 0.4em;background-color: white;}#sk-container-id-1 div.sk-label label {font-family: monospace;font-weight: bold;display: inline-block;line-height: 1.2em;}#sk-container-id-1 div.sk-label-container {text-align: center;}#sk-container-id-1 div.sk-container {/* jupyter's `normalize.less` sets `[hidden] { display: none; }` but bootstrap.min.css set `[hidden] { display: none !important; }` so we also need the `!important` here to be able to override the default hidden behavior on the sphinx rendered scikit-learn.org. See: https://github.com/scikit-learn/scikit-learn/issues/21755 */display: inline-block !important;position: relative;}#sk-container-id-1 div.sk-text-repr-fallback {display: none;}</style><div id=\"sk-container-id-1\" class=\"sk-top-container\"><div class=\"sk-text-repr-fallback\"><pre>DecisionTreeClassifier(max_depth=2, random_state=2)</pre><b>In a Jupyter environment, please rerun this cell to show the HTML representation or trust the notebook. <br />On GitHub, the HTML representation is unable to render, please try loading this page with nbviewer.org.</b></div><div class=\"sk-container\" hidden><div class=\"sk-item\"><div class=\"sk-estimator sk-toggleable\"><input class=\"sk-toggleable__control sk-hidden--visually\" id=\"sk-estimator-id-1\" type=\"checkbox\" checked><label for=\"sk-estimator-id-1\" class=\"sk-toggleable__label sk-toggleable__label-arrow\">DecisionTreeClassifier</label><div class=\"sk-toggleable__content\"><pre>DecisionTreeClassifier(max_depth=2, random_state=2)</pre></div></div></div></div></div>"
            ]
          },
          "metadata": {},
          "execution_count": 20
        }
      ],
      "source": [
        "# Train the model with the training set\n",
        "model.fit(X_train, y_train)"
      ]
    },
    {
      "cell_type": "code",
      "execution_count": 21,
      "metadata": {
        "id": "spjfpRSYK5yh"
      },
      "outputs": [],
      "source": [
        "from sklearn import tree\n",
        "from sklearn.tree import plot_tree\n",
        "import matplotlib.pyplot as plt"
      ]
    },
    {
      "cell_type": "code",
      "execution_count": 22,
      "metadata": {
        "id": "BHr1heHPK5yh",
        "outputId": "5ba793c7-d91c-46a6-be86-52e4178c5df3",
        "colab": {
          "base_uri": "https://localhost:8080/",
          "height": 491
        }
      },
      "outputs": [
        {
          "output_type": "display_data",
          "data": {
            "text/plain": [
              "<Figure size 900x600 with 1 Axes>"
            ],
            "image/png": "[encoded data removed]"
          },
          "metadata": {}
        }
      ],
      "source": [
        "# Display the model obtained\n",
        "plt.figure(figsize=(15,10), dpi=60)\n",
        "plot_tree(model, feature_names=X.columns);"
      ]
    },
    {
      "cell_type": "code",
      "execution_count": 23,
      "metadata": {
        "id": "W7ifLt8fK5yh",
        "outputId": "b1e66953-d49b-4820-f6d0-65a69eeda12e",
        "colab": {
          "base_uri": "https://localhost:8080/"
        }
      },
      "outputs": [
        {
          "output_type": "stream",
          "name": "stdout",
          "text": [
            "|--- feature_9 <= 890.50\n",
            "|   |--- feature_3 <= 5.50\n",
            "|   |   |--- class: Attrited Customer\n",
            "|   |--- feature_3 >  5.50\n",
            "|   |   |--- class: Attrited Customer\n",
            "|--- feature_9 >  890.50\n",
            "|   |--- feature_10 <= 54.50\n",
            "|   |   |--- class: Existing Customer\n",
            "|   |--- feature_10 >  54.50\n",
            "|   |   |--- class: Existing Customer\n",
            "\n"
          ]
        }
      ],
      "source": [
        "# Display the model obtained\n",
        "rules = tree.export_text(model)\n",
        "print(rules)"
      ]
    },
    {
      "cell_type": "code",
      "execution_count": 24,
      "metadata": {
        "id": "nzGLcEUYK5yh"
      },
      "outputs": [],
      "source": [
        "# Evaluate model performance using the test set\n",
        "pred = model.predict(X_test)"
      ]
    },
    {
      "cell_type": "code",
      "execution_count": 25,
      "metadata": {
        "id": "E_YZXaiqK5yh",
        "outputId": "3bf7ea2f-e53d-4020-c2f6-979fcfc30a81",
        "colab": {
          "base_uri": "https://localhost:8080/"
        }
      },
      "outputs": [
        {
          "output_type": "execute_result",
          "data": {
            "text/plain": [
              "array([0.07142857, 0.99960474])"
            ]
          },
          "metadata": {},
          "execution_count": 25
        }
      ],
      "source": [
        "# Calculate the recall value from the prediction results\n",
        "recall_score(y_test, pred, average=None)"
      ]
    },
    {
      "cell_type": "code",
      "execution_count": 26,
      "metadata": {
        "id": "oEFgkpiqK5yi",
        "outputId": "eeb911db-ba53-4fa7-a97c-73d0ab7b78d7",
        "colab": {
          "base_uri": "https://localhost:8080/"
        }
      },
      "outputs": [
        {
          "output_type": "execute_result",
          "data": {
            "text/plain": [
              "array(['Attrited Customer', 'Existing Customer'], dtype=object)"
            ]
          },
          "metadata": {},
          "execution_count": 26
        }
      ],
      "source": [
        "model.classes_"
      ]
    },
    {
      "cell_type": "markdown",
      "metadata": {
        "id": "NZart8zJK5yi"
      },
      "source": [
        "## Second Experiment\n",
        "In this case, all examples of 1627 outgoing customers and 8500 loyal customers are used in model training and evaluation."
      ]
    },
    {
      "cell_type": "code",
      "execution_count": 27,
      "metadata": {
        "id": "zlXDtuMkK5yi"
      },
      "outputs": [],
      "source": [
        "# Copy the dataset from the initial data collection results\n",
        "dataset_full = df.copy(deep=True)"
      ]
    },
    {
      "cell_type": "code",
      "execution_count": 28,
      "metadata": {
        "id": "-PMfIDwhK5yi"
      },
      "outputs": [],
      "source": [
        "# Separate the label column from the non-label column\n",
        "# Delete the status column\n",
        "X = dataset_full.drop('status', axis=1)\n",
        "\n",
        "# Retrieve the status column from the dataset\n",
        "y = dataset_full['status']"
      ]
    },
    {
      "cell_type": "code",
      "execution_count": 29,
      "metadata": {
        "id": "OwwFOuCBK5yi"
      },
      "outputs": [],
      "source": [
        "# Change the type of non-numeric columns to numeric\n",
        "X = pd.get_dummies(X, drop_first=True) # Hot Encoding the category/string columns"
      ]
    },
    {
      "cell_type": "code",
      "execution_count": 30,
      "metadata": {
        "id": "GGyz2qBxK5yi"
      },
      "outputs": [],
      "source": [
        "# Divide data (non-label and labeled) into training set (70%) and test set (30%)\n",
        "X_train, X_test, y_train, y_test = train_test_split(X, y, test_size=0.3, random_state=2)"
      ]
    },
    {
      "cell_type": "code",
      "execution_count": 31,
      "metadata": {
        "id": "OFj9hPHiK5yi"
      },
      "outputs": [],
      "source": [
        "# Define the Decision Tree model\n",
        "model2 = DecisionTreeClassifier(max_depth=2, random_state=2)"
      ]
    },
    {
      "cell_type": "code",
      "execution_count": 32,
      "metadata": {
        "id": "cNz3KGyqK5yi",
        "outputId": "d0acee07-39e8-4bde-af8d-c8a87de41538",
        "colab": {
          "base_uri": "https://localhost:8080/",
          "height": 74
        }
      },
      "outputs": [
        {
          "output_type": "execute_result",
          "data": {
            "text/plain": [
              "DecisionTreeClassifier(max_depth=2, random_state=2)"
            ],
            "text/html": [
              "<style>#sk-container-id-2 {color: black;background-color: white;}#sk-container-id-2 pre{padding: 0;}#sk-container-id-2 div.sk-toggleable {background-color: white;}#sk-container-id-2 label.sk-toggleable__label {cursor: pointer;display: block;width: 100%;margin-bottom: 0;padding: 0.3em;box-sizing: border-box;text-align: center;}#sk-container-id-2 label.sk-toggleable__label-arrow:before {content: \"▸\";float: left;margin-right: 0.25em;color: #696969;}#sk-container-id-2 label.sk-toggleable__label-arrow:hover:before {color: black;}#sk-container-id-2 div.sk-estimator:hover label.sk-toggleable__label-arrow:before {color: black;}#sk-container-id-2 div.sk-toggleable__content {max-height: 0;max-width: 0;overflow: hidden;text-align: left;background-color: #f0f8ff;}#sk-container-id-2 div.sk-toggleable__content pre {margin: 0.2em;color: black;border-radius: 0.25em;background-color: #f0f8ff;}#sk-container-id-2 input.sk-toggleable__control:checked~div.sk-toggleable__content {max-height: 200px;max-width: 100%;overflow: auto;}#sk-container-id-2 input.sk-toggleable__control:checked~label.sk-toggleable__label-arrow:before {content: \"▾\";}#sk-container-id-2 div.sk-estimator input.sk-toggleable__control:checked~label.sk-toggleable__label {background-color: #d4ebff;}#sk-container-id-2 div.sk-label input.sk-toggleable__control:checked~label.sk-toggleable__label {background-color: #d4ebff;}#sk-container-id-2 input.sk-hidden--visually {border: 0;clip: rect(1px 1px 1px 1px);clip: rect(1px, 1px, 1px, 1px);height: 1px;margin: -1px;overflow: hidden;padding: 0;position: absolute;width: 1px;}#sk-container-id-2 div.sk-estimator {font-family: monospace;background-color: #f0f8ff;border: 1px dotted black;border-radius: 0.25em;box-sizing: border-box;margin-bottom: 0.5em;}#sk-container-id-2 div.sk-estimator:hover {background-color: #d4ebff;}#sk-container-id-2 div.sk-parallel-item::after {content: \"\";width: 100%;border-bottom: 1px solid gray;flex-grow: 1;}#sk-container-id-2 div.sk-label:hover label.sk-toggleable__label {background-color: #d4ebff;}#sk-container-id-2 div.sk-serial::before {content: \"\";position: absolute;border-left: 1px solid gray;box-sizing: border-box;top: 0;bottom: 0;left: 50%;z-index: 0;}#sk-container-id-2 div.sk-serial {display: flex;flex-direction: column;align-items: center;background-color: white;padding-right: 0.2em;padding-left: 0.2em;position: relative;}#sk-container-id-2 div.sk-item {position: relative;z-index: 1;}#sk-container-id-2 div.sk-parallel {display: flex;align-items: stretch;justify-content: center;background-color: white;position: relative;}#sk-container-id-2 div.sk-item::before, #sk-container-id-2 div.sk-parallel-item::before {content: \"\";position: absolute;border-left: 1px solid gray;box-sizing: border-box;top: 0;bottom: 0;left: 50%;z-index: -1;}#sk-container-id-2 div.sk-parallel-item {display: flex;flex-direction: column;z-index: 1;position: relative;background-color: white;}#sk-container-id-2 div.sk-parallel-item:first-child::after {align-self: flex-end;width: 50%;}#sk-container-id-2 div.sk-parallel-item:last-child::after {align-self: flex-start;width: 50%;}#sk-container-id-2 div.sk-parallel-item:only-child::after {width: 0;}#sk-container-id-2 div.sk-dashed-wrapped {border: 1px dashed gray;margin: 0 0.4em 0.5em 0.4em;box-sizing: border-box;padding-bottom: 0.4em;background-color: white;}#sk-container-id-2 div.sk-label label {font-family: monospace;font-weight: bold;display: inline-block;line-height: 1.2em;}#sk-container-id-2 div.sk-label-container {text-align: center;}#sk-container-id-2 div.sk-container {/* jupyter's `normalize.less` sets `[hidden] { display: none; }` but bootstrap.min.css set `[hidden] { display: none !important; }` so we also need the `!important` here to be able to override the default hidden behavior on the sphinx rendered scikit-learn.org. See: https://github.com/scikit-learn/scikit-learn/issues/21755 */display: inline-block !important;position: relative;}#sk-container-id-2 div.sk-text-repr-fallback {display: none;}</style><div id=\"sk-container-id-2\" class=\"sk-top-container\"><div class=\"sk-text-repr-fallback\"><pre>DecisionTreeClassifier(max_depth=2, random_state=2)</pre><b>In a Jupyter environment, please rerun this cell to show the HTML representation or trust the notebook. <br />On GitHub, the HTML representation is unable to render, please try loading this page with nbviewer.org.</b></div><div class=\"sk-container\" hidden><div class=\"sk-item\"><div class=\"sk-estimator sk-toggleable\"><input class=\"sk-toggleable__control sk-hidden--visually\" id=\"sk-estimator-id-2\" type=\"checkbox\" checked><label for=\"sk-estimator-id-2\" class=\"sk-toggleable__label sk-toggleable__label-arrow\">DecisionTreeClassifier</label><div class=\"sk-toggleable__content\"><pre>DecisionTreeClassifier(max_depth=2, random_state=2)</pre></div></div></div></div></div>"
            ]
          },
          "metadata": {},
          "execution_count": 32
        }
      ],
      "source": [
        "# Train the model with the training set\n",
        "model2.fit(X_train, y_train)"
      ]
    },
    {
      "cell_type": "code",
      "execution_count": 33,
      "metadata": {
        "id": "dsSfWaxQK5yi",
        "outputId": "fd98a6b2-dd32-4a94-e16e-2784768054a6",
        "colab": {
          "base_uri": "https://localhost:8080/"
        }
      },
      "outputs": [
        {
          "output_type": "stream",
          "name": "stdout",
          "text": [
            "|--- feature_10 <= 54.50\n",
            "|   |--- feature_7 <= 615.50\n",
            "|   |   |--- class: Attrited Customer\n",
            "|   |--- feature_7 >  615.50\n",
            "|   |   |--- class: Existing Customer\n",
            "|--- feature_10 >  54.50\n",
            "|   |--- feature_9 <= 5361.50\n",
            "|   |   |--- class: Existing Customer\n",
            "|   |--- feature_9 >  5361.50\n",
            "|   |   |--- class: Existing Customer\n",
            "\n"
          ]
        }
      ],
      "source": [
        "# Display the model obtained\n",
        "rules = tree.export_text(model2)\n",
        "print(rules)"
      ]
    },
    {
      "cell_type": "code",
      "execution_count": 34,
      "metadata": {
        "id": "4GBoOUQwK5yi"
      },
      "outputs": [],
      "source": [
        "# Evaluate model performance using the test set\n",
        "pred2 = model.predict(X_test)"
      ]
    },
    {
      "cell_type": "code",
      "execution_count": 35,
      "metadata": {
        "id": "W-5SvO7SK5yi",
        "outputId": "7d5e283f-a82e-4cf3-9f17-6a163241d0c0",
        "colab": {
          "base_uri": "https://localhost:8080/"
        }
      },
      "outputs": [
        {
          "output_type": "execute_result",
          "data": {
            "text/plain": [
              "array([0.06832298, 0.99960876])"
            ]
          },
          "metadata": {},
          "execution_count": 35
        }
      ],
      "source": [
        "# Calculate the recall value from the prediction results\n",
        "recall_score(y_test, pred2, average=None)"
      ]
    },
    {
      "cell_type": "code",
      "execution_count": 35,
      "metadata": {
        "id": "d7rPqZX0K5ym"
      },
      "outputs": [],
      "source": []
    }
  ],
  "metadata": {
    "kernelspec": {
      "display_name": "tf",
      "language": "python",
      "name": "python3"
    },
    "language_info": {
      "codemirror_mode": {
        "name": "ipython",
        "version": 3
      },
      "file_extension": ".py",
      "mimetype": "text/x-python",
      "name": "python",
      "nbconvert_exporter": "python",
      "pygments_lexer": "ipython3",
      "version": "3.9.17"
    },
    "orig_nbformat": 4,
    "colab": {
      "provenance": [],
      "include_colab_link": true
    }
  },
  "nbformat": 4,
  "nbformat_minor": 0
}